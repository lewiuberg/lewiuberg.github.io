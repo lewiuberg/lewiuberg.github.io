{
 "cells": [
  {
   "cell_type": "markdown",
   "metadata": {},
   "source": [
    "## A visual representation of named colors\n",
    "\n",
    "I looked into word embeddings for my bachelor thesis and stumbled into a great GitHub Gist by [Allison Parrish](https://gist.github.com/aparrish/2f562e3737544cf29aaf1af30362f469) titled \"Understanding word vectors\". Her Gist is very educational, explaining everything from the ground up. However, the section about colors as vectors did not show the colors being discussed. Since I am a visual learner, I wanted to implement some way of plotting the colors to see them. I realized that this could be a handy tool in other circumstances, and I have extracted what I made and modified it to work without her Gists context."
   ]
  },
  {
   "cell_type": "markdown",
   "metadata": {},
   "source": [
    "### Color basis\n",
    "Let's start by loading the color information from Darius Kazemi's GitHub repository containing a [JSON file](https://github.com/dariusk/corpora/blob/master/data/colors/xkcd.json) with the xkcd color names and values."
   ]
  },
  {
   "cell_type": "code",
   "execution_count": 1,
   "metadata": {},
   "outputs": [],
   "source": [
    "import urllib.request, json\n",
    "\n",
    "# read json data\n",
    "with urllib.request.urlopen(\"https://raw.githubusercontent.com/dariusk/corpora/master/data/colors/xkcd.json\") as url:\n",
    "    color_data = json.loads(url.read().decode())"
   ]
  },
  {
   "cell_type": "markdown",
   "metadata": {},
   "source": [
    "I want to make a dictionary that holds the hex, integer, and normalized integer values, so the first step is to create a function that converts hex to a tuple with RGB values."
   ]
  },
  {
   "cell_type": "code",
   "execution_count": 2,
   "metadata": {},
   "outputs": [],
   "source": [
    "def hex_to_int(color):\n",
    "    \"\"\"\n",
    "    Converts hexcolor codes to tuple of integers.\n",
    "\n",
    "    Args:\n",
    "        color (str): hex color code.\n",
    "\n",
    "    Returns:\n",
    "        tuple: RGB values as integers.\n",
    "    \"\"\"\n",
    "    color = color.lstrip(\"#\")\n",
    "    return int(color[:2], 16), int(color[2:4], 16), int(color[4:6], 16)"
   ]
  },
  {
   "cell_type": "markdown",
   "metadata": {},
   "source": [
    "Now, I am ready to define the new color dictionary, which holds all the mentioned values."
   ]
  },
  {
   "cell_type": "code",
   "execution_count": 3,
   "metadata": {},
   "outputs": [],
   "source": [
    "# Define one dictionary with name as key\n",
    "colors: dict = {}\n",
    "\n",
    "for i in color_data[\"colors\"]:\n",
    "    temp = list(i.values())\n",
    "\n",
    "    # hex color as value\n",
    "    val_hex = temp[1]\n",
    "\n",
    "    # int (RGB 0-255) color as value\n",
    "    val_int = hex_to_int(temp[1])\n",
    "\n",
    "    # normalized int (0-1) color as value\n",
    "    val_norm = tuple([x / 255 for x in val_int])\n",
    "\n",
    "    # combine to dict\n",
    "    colors[temp[0]] = {\"hex\": val_hex, \"int\": val_int, \"norm\": val_norm}"
   ]
  },
  {
   "cell_type": "markdown",
   "metadata": {},
   "source": [
    "Let's see look at some results."
   ]
  },
  {
   "cell_type": "code",
   "execution_count": 4,
   "metadata": {},
   "outputs": [
    {
     "name": "stdout",
     "output_type": "stream",
     "text": [
      "Sample of 5 colors with hex values\n"
     ]
    },
    {
     "data": {
      "text/plain": [
       "[('cloudy blue', '#acc2d9'),\n",
       " ('dark pastel green', '#56ae57'),\n",
       " ('dust', '#b2996e'),\n",
       " ('electric lime', '#a8ff04'),\n",
       " ('fresh green', '#69d84f')]"
      ]
     },
     "metadata": {},
     "output_type": "display_data"
    },
    {
     "name": "stdout",
     "output_type": "stream",
     "text": [
      "Sample of 5 colors with int values\n"
     ]
    },
    {
     "data": {
      "text/plain": [
       "[('cloudy blue', (172, 194, 217)),\n",
       " ('dark pastel green', (86, 174, 87)),\n",
       " ('dust', (178, 153, 110)),\n",
       " ('electric lime', (168, 255, 4)),\n",
       " ('fresh green', (105, 216, 79))]"
      ]
     },
     "metadata": {},
     "output_type": "display_data"
    },
    {
     "name": "stdout",
     "output_type": "stream",
     "text": [
      "Sample of 5 colors with normalized int values\n"
     ]
    },
    {
     "data": {
      "text/plain": [
       "[('cloudy blue', (0.6745098039215687, 0.7607843137254902, 0.8509803921568627)),\n",
       " ('dark pastel green',\n",
       "  (0.33725490196078434, 0.6823529411764706, 0.3411764705882353)),\n",
       " ('dust', (0.6980392156862745, 0.6, 0.43137254901960786)),\n",
       " ('electric lime', (0.6588235294117647, 1.0, 0.01568627450980392)),\n",
       " ('fresh green',\n",
       "  (0.4117647058823529, 0.8470588235294118, 0.30980392156862746))]"
      ]
     },
     "metadata": {},
     "output_type": "display_data"
    }
   ],
   "source": [
    "print(\"Sample of 5 colors with hex values\")\n",
    "names = [x[0] for x in list(colors.items())[0:5]]\n",
    "values = [colors[x][\"hex\"] for x in names]\n",
    "display(list(zip(names, values)))\n",
    "\n",
    "print(\"Sample of 5 colors with int values\")\n",
    "names = [x[0] for x in list(colors.items())[0:5]]\n",
    "values = [colors[x][\"int\"] for x in names]\n",
    "display(list(zip(names, values)))\n",
    "\n",
    "print(\"Sample of 5 colors with normalized int values\")\n",
    "names = [x[0] for x in list(colors.items())[0:5]]\n",
    "values = [colors[x][\"norm\"] for x in names]\n",
    "display(list(zip(names, values)))"
   ]
  },
  {
   "cell_type": "markdown",
   "metadata": {},
   "source": [
    "Let's test if we can give a color name as input and get the values back."
   ]
  },
  {
   "cell_type": "code",
   "execution_count": 5,
   "metadata": {},
   "outputs": [
    {
     "name": "stdout",
     "output_type": "stream",
     "text": [
      "Test for the color 'red':\n"
     ]
    },
    {
     "data": {
      "text/plain": [
       "{'hex': '#e50000', 'int': (229, 0, 0), 'norm': (0.8980392156862745, 0.0, 0.0)}"
      ]
     },
     "metadata": {},
     "output_type": "display_data"
    }
   ],
   "source": [
    "print(\"Test for the color 'red':\")\n",
    "display(colors[\"red\"])"
   ]
  },
  {
   "cell_type": "markdown",
   "metadata": {},
   "source": [
    "### Making it visible\n",
    "There was already an excellent function for plotting colors in the [Matplotlib documentation](https://matplotlib.org/3.1.0/gallery/color/named_colors.html), so I copied it and made some small changes to better suit my needs."
   ]
  },
  {
   "cell_type": "code",
   "execution_count": 6,
   "metadata": {},
   "outputs": [],
   "source": [
    "import matplotlib.pyplot as plt\n",
    "import matplotlib.colors as mcolors\n",
    "\n",
    "\n",
    "def plot_colortable(colors, title=\"Colors\", sort_colors=True, emptycols=0, title_size=18, text_size=14):\n",
    "\n",
    "    cell_width = 212\n",
    "    cell_height = 22\n",
    "    swatch_width = 48\n",
    "    margin = 12\n",
    "    topmargin = 40\n",
    "\n",
    "    # Sort colors by hue, saturation, value and name.\n",
    "    if sort_colors is True:\n",
    "        by_hsv = sorted((tuple(mcolors.rgb_to_hsv(mcolors.to_rgb(color))),\n",
    "                         name)\n",
    "                        for name, color in colors.items())\n",
    "        names = [name for hsv, name in by_hsv]\n",
    "    else:\n",
    "        names = list(colors)\n",
    "\n",
    "    n = len(names)\n",
    "    ncols = 4 - emptycols\n",
    "    nrows = n // ncols + int(n % ncols > 0)\n",
    "\n",
    "    width = cell_width * 4 + 2 * margin\n",
    "    height = cell_height * nrows + margin + topmargin\n",
    "    dpi = 72\n",
    "\n",
    "    fig, ax = plt.subplots(figsize=(width / dpi, height / dpi), dpi=dpi)\n",
    "    fig.subplots_adjust(margin/width, margin/height,\n",
    "                        (width-margin)/width, (height-topmargin)/height)\n",
    "    ax.set_xlim(0, cell_width * 4)\n",
    "    ax.set_ylim(cell_height * (nrows-0.5), -cell_height/2.)\n",
    "    ax.yaxis.set_visible(False)\n",
    "    ax.xaxis.set_visible(False)\n",
    "    ax.set_axis_off()\n",
    "    ax.set_title(title, fontsize=title_size, loc=\"left\", pad=10)\n",
    "\n",
    "    for i, name in enumerate(names):\n",
    "        row = i % nrows\n",
    "        col = i // nrows\n",
    "        y = row * cell_height\n",
    "\n",
    "        swatch_start_x = cell_width * col\n",
    "        swatch_end_x = cell_width * col + swatch_width\n",
    "        text_pos_x = cell_width * col + swatch_width + 7\n",
    "\n",
    "        ax.text(text_pos_x, y, name, fontsize=text_size,\n",
    "                horizontalalignment='left',\n",
    "                verticalalignment='center')\n",
    "\n",
    "        ax.hlines(y, swatch_start_x, swatch_end_x,\n",
    "                  color=colors[name], linewidth=18)\n",
    "\n",
    "    return fig"
   ]
  },
  {
   "cell_type": "markdown",
   "metadata": {},
   "source": [
    "Since a predefined function is used for plotting, a function that generates the needed input is defined."
   ]
  },
  {
   "cell_type": "code",
   "execution_count": 7,
   "metadata": {},
   "outputs": [],
   "source": [
    "def make_selection_dict(names, color_index, val_type=\"hex\"):\n",
    "    \"\"\"\n",
    "    Makes a dictionary for the selected colors and their values.\n",
    "\n",
    "    Args:\n",
    "        names (list): color names\n",
    "        color_index (dict): All avaliable colors.\n",
    "        val_type (str, optional): value return type. Defaults to \"hex\".\n",
    "\n",
    "    Returns:\n",
    "        [dict]: color names and values.\n",
    "    \"\"\"\n",
    "    value_list: list = []\n",
    "    \n",
    "    # Makes a list of color values based on the input and desired return type.\n",
    "    for i in names:\n",
    "        value_list.append(color_index[i][val_type])\n",
    "    \n",
    "    # Combines the names and values in a dictionary.\n",
    "    return {k: v for k, v in zip(names, value_list)}"
   ]
  },
  {
   "cell_type": "markdown",
   "metadata": {},
   "source": [
    "Let's make a list of colors and test that the new function returns \"hex\" values."
   ]
  },
  {
   "cell_type": "code",
   "execution_count": 8,
   "metadata": {},
   "outputs": [
    {
     "data": {
      "text/plain": [
       "{'red': '#e50000', 'green': '#15b01a', 'blue': '#0343df'}"
      ]
     },
     "metadata": {},
     "output_type": "display_data"
    }
   ],
   "source": [
    "color_selection = [\"red\", \"green\", \"blue\"]\n",
    "\n",
    "display(selection := make_selection_dict(color_selection, colors, \"hex\"))"
   ]
  },
  {
   "cell_type": "markdown",
   "metadata": {},
   "source": [
    "Now the time to see the actual colors is here."
   ]
  },
  {
   "cell_type": "code",
   "execution_count": 9,
   "metadata": {},
   "outputs": [
    {
     "data": {
      "image/png": "[encoded data removed]",
      "text/plain": [
       "<Figure size 872x74 with 1 Axes>"
      ]
     },
     "metadata": {
      "needs_background": "light"
     },
     "output_type": "display_data"
    }
   ],
   "source": [
    "plot_colortable(selection, sort_colors=False, emptycols=1);"
   ]
  },
  {
   "cell_type": "markdown",
   "metadata": {},
   "source": [
    "### Finding shades of a color\n",
    "Allison's Gist had some functions that enabled us to find the n closest colors to our selection based on euclidean distance. I have combined some of her functions and made alterations to them to better suit my needs."
   ]
  },
  {
   "cell_type": "code",
   "execution_count": 10,
   "metadata": {},
   "outputs": [],
   "source": [
    "def closest(color_index, color_val, n=10):\n",
    "    \"\"\"\n",
    "    Defines a list of n closest colors to the input color.\n",
    "\n",
    "    Args:\n",
    "        color_index (dict): All avaliable colors.\n",
    "        color_val (dict): Base color.\n",
    "        n (int, optional): Number of closest colors. Defaults to 10.\n",
    "\n",
    "    Returns:\n",
    "        list: Names of closest colors.\n",
    "    \"\"\"\n",
    "    from scipy.spatial.distance import euclidean\n",
    "    closest = []\n",
    "    if isinstance(color_val, dict):\n",
    "        for key in sorted(color_index.keys(),\n",
    "                          key=lambda x: euclidean(color_val[\"int\"],\n",
    "                                                  color_index[x][\"int\"]))[:n]:\n",
    "            closest.append(key)\n",
    "    elif isinstance(color_val, list):\n",
    "        for key in sorted(\n",
    "                color_index.keys(),\n",
    "                key=lambda x: euclidean(color_val, color_index[x][\"int\"]))[:n]:\n",
    "            closest.append(key)\n",
    "    return closest"
   ]
  },
  {
   "cell_type": "markdown",
   "metadata": {},
   "source": [
    "Let's find the 6 closest colors to \"red\"."
   ]
  },
  {
   "cell_type": "code",
   "execution_count": 59,
   "metadata": {},
   "outputs": [
    {
     "data": {
      "image/png": "[encoded data removed]",
      "text/plain": [
       "<Figure size 872x96 with 1 Axes>"
      ]
     },
     "metadata": {
      "needs_background": "light"
     },
     "output_type": "display_data"
    }
   ],
   "source": [
    "color_selection = closest(colors, colors[\"red\"], 6)\n",
    "selection = make_selection_dict(color_selection, colors, \"hex\")  # <-- using hex\n",
    "plot_colortable(selection, emptycols=1);"
   ]
  },
  {
   "cell_type": "markdown",
   "metadata": {},
   "source": [
    "Let's find the 6 closest colors to \"green\"."
   ]
  },
  {
   "cell_type": "code",
   "execution_count": 58,
   "metadata": {},
   "outputs": [
    {
     "data": {
      "image/png": "[encoded data removed]",
      "text/plain": [
       "<Figure size 872x96 with 1 Axes>"
      ]
     },
     "metadata": {
      "needs_background": "light"
     },
     "output_type": "display_data"
    }
   ],
   "source": [
    "color_selection = closest(colors, colors[\"green\"], 6)\n",
    "selection = make_selection_dict(color_selection, colors, \"norm\")  # <-- using norm\n",
    "plot_colortable(selection, emptycols=1);"
   ]
  },
  {
   "cell_type": "markdown",
   "metadata": {},
   "source": [
    "Let's find the 12 closest colors to \"pure blue\", by using the RGB values. "
   ]
  },
  {
   "cell_type": "code",
   "execution_count": 57,
   "metadata": {},
   "outputs": [
    {
     "data": {
      "image/png": "[encoded data removed]",
      "text/plain": [
       "<Figure size 872x140 with 1 Axes>"
      ]
     },
     "metadata": {
      "needs_background": "light"
     },
     "output_type": "display_data"
    }
   ],
   "source": [
    "color_selection = closest(colors, [3, 6, 223], 12)\n",
    "selection = make_selection_dict(color_selection, colors, \"hex\")\n",
    "plot_colortable(selection, emptycols=1);"
   ]
  },
  {
   "cell_type": "markdown",
   "metadata": {},
   "source": [
    "### Playing with vectors\n",
    "The following functions are copied as they were from the previously mentioned Gist since they do the intended job, and I don't see any need to alter them."
   ]
  },
  {
   "cell_type": "markdown",
   "metadata": {},
   "source": [
    "#### Subtract one color from another\n",
    "Let's test subtracting \"magenta\" from \"cyan\"."
   ]
  },
  {
   "cell_type": "code",
   "execution_count": 60,
   "metadata": {},
   "outputs": [
    {
     "data": {
      "image/png": "[encoded data removed]",
      "text/plain": [
       "<Figure size 872x140 with 1 Axes>"
      ]
     },
     "metadata": {
      "needs_background": "light"
     },
     "output_type": "display_data"
    }
   ],
   "source": [
    "def subtractv(coord1, coord2):\n",
    "    return [c1 - c2 for c1, c2 in zip(coord1, coord2)]\n",
    "\n",
    "# Have to use \"int\" in the subtractv function\n",
    "color_selection = closest(colors, subtractv(colors['magenta'][\"int\"], colors['cyan'][\"int\"]), 12)\n",
    "selection = make_selection_dict(color_selection, colors, \"hex\")\n",
    "plot_colortable(selection, emptycols=1);"
   ]
  },
  {
   "cell_type": "markdown",
   "metadata": {},
   "source": [
    "#### Add one color to another\n",
    "Let's test adding \"royal\" with \"teal\"."
   ]
  },
  {
   "cell_type": "code",
   "execution_count": 61,
   "metadata": {},
   "outputs": [
    {
     "data": {
      "image/png": "[encoded data removed]",
      "text/plain": [
       "<Figure size 872x140 with 1 Axes>"
      ]
     },
     "metadata": {
      "needs_background": "light"
     },
     "output_type": "display_data"
    }
   ],
   "source": [
    "def addv(coord1, coord2):\n",
    "    return [c1 + c2 for c1, c2 in zip(coord1, coord2)]\n",
    "\n",
    "# Have to use \"int\" in the addv function\n",
    "color_selection = closest(colors, addv(colors['royal'][\"int\"], colors['teal'][\"int\"]), 12)\n",
    "selection = make_selection_dict(color_selection, colors, \"hex\")\n",
    "plot_colortable(selection, emptycols=1);"
   ]
  },
  {
   "cell_type": "markdown",
   "metadata": {},
   "source": [
    "#### Find the average of a list\n",
    "Let's test finding the average of black and white."
   ]
  },
  {
   "cell_type": "code",
   "execution_count": 64,
   "metadata": {},
   "outputs": [
    {
     "data": {
      "image/png": "[encoded data removed]",
      "text/plain": [
       "<Figure size 872x140 with 1 Axes>"
      ]
     },
     "metadata": {
      "needs_background": "light"
     },
     "output_type": "display_data"
    }
   ],
   "source": [
    "def meanv(coords):\n",
    "    # assumes every item in coords has same length as item 0\n",
    "    sumv = [0] * len(coords[0])\n",
    "    for item in coords:\n",
    "        for i in range(len(item)):\n",
    "            sumv[i] += item[i]\n",
    "    mean = [0] * len(sumv)\n",
    "    for i in range(len(sumv)):\n",
    "        mean[i] = float(sumv[i]) / len(coords)\n",
    "    return mean\n",
    "meanv([[0, 1], [2, 2], [4, 3]])\n",
    "\n",
    "# Have to use \"int\" in the meanv function\n",
    "color_selection = closest(colors, meanv([colors['black'][\"int\"], colors['white'][\"int\"]]), 12)\n",
    "selection = make_selection_dict(color_selection, colors, \"hex\")\n",
    "plot_colortable(selection, emptycols=1);"
   ]
  },
  {
   "cell_type": "markdown",
   "metadata": {},
   "source": [
    "#### Finding random colors"
   ]
  },
  {
   "cell_type": "code",
   "execution_count": 87,
   "metadata": {},
   "outputs": [
    {
     "data": {
      "image/png": "[encoded data removed]",
      "text/plain": [
       "<Figure size 872x140 with 1 Axes>"
      ]
     },
     "metadata": {
      "needs_background": "light"
     },
     "output_type": "display_data"
    }
   ],
   "source": [
    "import random\n",
    "\n",
    "color_selection = random.sample(colors.keys(), 12)\n",
    "selection = make_selection_dict(color_selection, colors, \"hex\")\n",
    "plot_colortable(selection, sort_colors=False, emptycols=1);"
   ]
  },
  {
   "cell_type": "markdown",
   "metadata": {},
   "source": [
    "#### Every n color in range"
   ]
  },
  {
   "cell_type": "code",
   "execution_count": 88,
   "metadata": {},
   "outputs": [
    {
     "data": {
      "image/png": "[encoded data removed]",
      "text/plain": [
       "<Figure size 872x162 with 1 Axes>"
      ]
     },
     "metadata": {
      "needs_background": "light"
     },
     "output_type": "display_data"
    }
   ],
   "source": [
    "color_selection = [list(colors.keys())[x] for x in range(0, 37, 3)]\n",
    "selection = make_selection_dict(color_selection, colors, \"hex\")\n",
    "plot_colortable(selection, emptycols=1);"
   ]
  },
  {
   "cell_type": "code",
   "execution_count": null,
   "metadata": {},
   "outputs": [],
   "source": []
  }
 ],
 "metadata": {
  "hide_input": false,
  "kernelspec": {
   "display_name": "Python 3",
   "language": "python",
   "name": "python3"
  },
  "language_info": {
   "codemirror_mode": {
    "name": "ipython",
    "version": 3
   },
   "file_extension": ".py",
   "mimetype": "text/x-python",
   "name": "python",
   "nbconvert_exporter": "python",
   "pygments_lexer": "ipython3",
   "version": "3.8.6"
  },
  "toc": {
   "base_numbering": 1,
   "nav_menu": {},
   "number_sections": true,
   "sideBar": true,
   "skip_h1_title": false,
   "title_cell": "Table of Contents",
   "title_sidebar": "Contents",
   "toc_cell": false,
   "toc_position": {},
   "toc_section_display": true,
   "toc_window_display": false
  },
  "varInspector": {
   "cols": {
    "lenName": 16,
    "lenType": 16,
    "lenVar": 40
   },
   "kernels_config": {
    "python": {
     "delete_cmd_postfix": "",
     "delete_cmd_prefix": "del ",
     "library": "var_list.py",
     "varRefreshCmd": "print(var_dic_list())"
    },
    "r": {
     "delete_cmd_postfix": ") ",
     "delete_cmd_prefix": "rm(",
     "library": "var_list.r",
     "varRefreshCmd": "cat(var_dic_list()) "
    }
   },
   "types_to_exclude": [
    "module",
    "function",
    "builtin_function_or_method",
    "instance",
    "_Feature"
   ],
   "window_display": false
  }
 },
 "nbformat": 4,
 "nbformat_minor": 4
}